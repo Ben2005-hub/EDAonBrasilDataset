{
 "cells": [
  {
   "cell_type": "code",
   "execution_count": 6,
   "id": "0314c60c-e455-4bff-8a8b-bd41d9ae5421",
   "metadata": {},
   "outputs": [],
   "source": [
    "\"\"\"\n",
    "I imported matplotlb as plt, pandas as pd, and plotly as pt\n",
    "\"\"\"\n",
    "import matplotlib.pyplot as plt \n",
    "import pandas as pd\n",
    "import plotly.express as pt"
   ]
  },
  {
   "cell_type": "code",
   "execution_count": 7,
   "id": "337aea5f-1758-4918-afc2-06a00096a9e5",
   "metadata": {},
   "outputs": [
    {
     "name": "stdout",
     "output_type": "stream",
     "text": [
      "{'encoding': 'ISO-8859-1', 'confidence': 0.73, 'language': ''}\n"
     ]
    }
   ],
   "source": [
    "import chardet\n",
    "# This code is to check the kind of encoding the csv file is using\n",
    "with open(\"C:/Users/Mystic/Downloads/brasil-real-estate-1.csv\", \"rb\") as f:\n",
    "    result = chardet.detect(f.read(100000))\n",
    "print(result)\n"
   ]
  },
  {
   "cell_type": "code",
   "execution_count": 8,
   "id": "a7db1a92-0ee7-4e90-876f-a6f5e1f18897",
   "metadata": {},
   "outputs": [
    {
     "name": "stdout",
     "output_type": "stream",
     "text": [
      "<class 'pandas.core.frame.DataFrame'>\n",
      "RangeIndex: 12834 entries, 0 to 12833\n",
      "Data columns (total 7 columns):\n",
      " #   Column                   Non-Null Count  Dtype \n",
      "---  ------                   --------------  ----- \n",
      " 0   Unnamed: 0               12834 non-null  int64 \n",
      " 1   property_type            12834 non-null  object\n",
      " 2   place_with_parent_names  12834 non-null  object\n",
      " 3   region                   12834 non-null  object\n",
      " 4   lat-lon                  11551 non-null  object\n",
      " 5   area_m2                  12834 non-null  int64 \n",
      " 6   price_usd                12834 non-null  object\n",
      "dtypes: int64(2), object(5)\n",
      "memory usage: 702.0+ KB\n"
     ]
    }
   ],
   "source": [
    "# First load your csv file from the source by getting the file location also not\n",
    "# I used the encoding = ISO-8859-1 because pandas didnt recognized it as utf-8\n",
    "df1 = pd.read_csv(\"C:/Users/Mystic/Downloads/brasil-real-estate-1.csv\", encoding='ISO-8859-1')\n",
    "df1.head()\n",
    "df1.info()"
   ]
  },
  {
   "cell_type": "code",
   "execution_count": 10,
   "id": "b9e786b5-8203-4467-9696-c29eaaf8a893",
   "metadata": {},
   "outputs": [
    {
     "name": "stdout",
     "output_type": "stream",
     "text": [
      "<class 'pandas.core.frame.DataFrame'>\n",
      "RangeIndex: 12834 entries, 0 to 12833\n",
      "Data columns (total 7 columns):\n",
      " #   Column                   Non-Null Count  Dtype \n",
      "---  ------                   --------------  ----- \n",
      " 0   Unnamed: 0               12834 non-null  int64 \n",
      " 1   property_type            12834 non-null  object\n",
      " 2   place_with_parent_names  12834 non-null  object\n",
      " 3   region                   12834 non-null  object\n",
      " 4   lat-lon                  11551 non-null  object\n",
      " 5   area_m2                  12834 non-null  int64 \n",
      " 6   price_usd                12834 non-null  object\n",
      "dtypes: int64(2), object(5)\n",
      "memory usage: 702.0+ KB\n"
     ]
    }
   ],
   "source": [
    "df1.info()"
   ]
  },
  {
   "cell_type": "code",
   "execution_count": 14,
   "id": "e3320dbe-015e-40b2-a0e0-f8f69aa97ad0",
   "metadata": {},
   "outputs": [],
   "source": [
    "# converting the price_usd to floating point to make it sutable for calculations \n",
    "df1[\"price_usd\"] = df1[\"price_usd\"].str.replace(\"$\", \"\").str.replace(\",\",\"\").astype(float)\n",
    "# This is to print out the head of the dataset\n",
    "# df1[\"price_usd\"].head()"
   ]
  },
  {
   "cell_type": "code",
   "execution_count": 16,
   "id": "74b0c49e-ff83-4522-9067-0e641f3693a8",
   "metadata": {},
   "outputs": [
    {
     "name": "stdout",
     "output_type": "stream",
     "text": [
      "(11551, 7)\n",
      "<class 'pandas.core.frame.DataFrame'>\n",
      "Index: 11551 entries, 0 to 12833\n",
      "Data columns (total 7 columns):\n",
      " #   Column                   Non-Null Count  Dtype  \n",
      "---  ------                   --------------  -----  \n",
      " 0   Unnamed: 0               11551 non-null  int64  \n",
      " 1   property_type            11551 non-null  object \n",
      " 2   place_with_parent_names  11551 non-null  object \n",
      " 3   region                   11551 non-null  object \n",
      " 4   lat-lon                  11551 non-null  object \n",
      " 5   area_m2                  11551 non-null  int64  \n",
      " 6   price_usd                11551 non-null  float64\n",
      "dtypes: float64(1), int64(2), object(4)\n",
      "memory usage: 721.9+ KB\n"
     ]
    },
    {
     "data": {
      "text/html": [
       "<div>\n",
       "<style scoped>\n",
       "    .dataframe tbody tr th:only-of-type {\n",
       "        vertical-align: middle;\n",
       "    }\n",
       "\n",
       "    .dataframe tbody tr th {\n",
       "        vertical-align: top;\n",
       "    }\n",
       "\n",
       "    .dataframe thead th {\n",
       "        text-align: right;\n",
       "    }\n",
       "</style>\n",
       "<table border=\"1\" class=\"dataframe\">\n",
       "  <thead>\n",
       "    <tr style=\"text-align: right;\">\n",
       "      <th></th>\n",
       "      <th>Unnamed: 0</th>\n",
       "      <th>property_type</th>\n",
       "      <th>place_with_parent_names</th>\n",
       "      <th>region</th>\n",
       "      <th>lat-lon</th>\n",
       "      <th>area_m2</th>\n",
       "      <th>price_usd</th>\n",
       "    </tr>\n",
       "  </thead>\n",
       "  <tbody>\n",
       "    <tr>\n",
       "      <th>0</th>\n",
       "      <td>1</td>\n",
       "      <td>apartment</td>\n",
       "      <td>|Brasil|Alagoas|Maceió|</td>\n",
       "      <td>Northeast</td>\n",
       "      <td>-9.6443051,-35.7088142</td>\n",
       "      <td>110</td>\n",
       "      <td>187230.85</td>\n",
       "    </tr>\n",
       "    <tr>\n",
       "      <th>1</th>\n",
       "      <td>2</td>\n",
       "      <td>apartment</td>\n",
       "      <td>|Brasil|Alagoas|Maceió|</td>\n",
       "      <td>Northeast</td>\n",
       "      <td>-9.6430934,-35.70484</td>\n",
       "      <td>65</td>\n",
       "      <td>81133.37</td>\n",
       "    </tr>\n",
       "    <tr>\n",
       "      <th>2</th>\n",
       "      <td>3</td>\n",
       "      <td>house</td>\n",
       "      <td>|Brasil|Alagoas|Maceió|</td>\n",
       "      <td>Northeast</td>\n",
       "      <td>-9.6227033,-35.7297953</td>\n",
       "      <td>211</td>\n",
       "      <td>154465.45</td>\n",
       "    </tr>\n",
       "    <tr>\n",
       "      <th>3</th>\n",
       "      <td>4</td>\n",
       "      <td>apartment</td>\n",
       "      <td>|Brasil|Alagoas|Maceió|</td>\n",
       "      <td>Northeast</td>\n",
       "      <td>-9.622837,-35.719556</td>\n",
       "      <td>99</td>\n",
       "      <td>146013.20</td>\n",
       "    </tr>\n",
       "    <tr>\n",
       "      <th>4</th>\n",
       "      <td>5</td>\n",
       "      <td>apartment</td>\n",
       "      <td>|Brasil|Alagoas|Maceió|</td>\n",
       "      <td>Northeast</td>\n",
       "      <td>-9.654955,-35.700227</td>\n",
       "      <td>55</td>\n",
       "      <td>101416.71</td>\n",
       "    </tr>\n",
       "  </tbody>\n",
       "</table>\n",
       "</div>"
      ],
      "text/plain": [
       "   Unnamed: 0 property_type  place_with_parent_names     region  \\\n",
       "0           1     apartment  |Brasil|Alagoas|Maceió|  Northeast   \n",
       "1           2     apartment  |Brasil|Alagoas|Maceió|  Northeast   \n",
       "2           3         house  |Brasil|Alagoas|Maceió|  Northeast   \n",
       "3           4     apartment  |Brasil|Alagoas|Maceió|  Northeast   \n",
       "4           5     apartment  |Brasil|Alagoas|Maceió|  Northeast   \n",
       "\n",
       "                  lat-lon  area_m2  price_usd  \n",
       "0  -9.6443051,-35.7088142      110  187230.85  \n",
       "1    -9.6430934,-35.70484       65   81133.37  \n",
       "2  -9.6227033,-35.7297953      211  154465.45  \n",
       "3    -9.622837,-35.719556       99  146013.20  \n",
       "4    -9.654955,-35.700227       55  101416.71  "
      ]
     },
     "execution_count": 16,
     "metadata": {},
     "output_type": "execute_result"
    }
   ],
   "source": [
    "df1.dropna(inplace=True)\n",
    "print(df1.shape)\n",
    "df1.info()\n",
    "df1.head()"
   ]
  },
  {
   "cell_type": "code",
   "execution_count": 18,
   "id": "c879124a-da02-4002-846f-0567bad8f047",
   "metadata": {},
   "outputs": [
    {
     "data": {
      "text/plain": [
       "0    Alagoas\n",
       "1    Alagoas\n",
       "2    Alagoas\n",
       "3    Alagoas\n",
       "4    Alagoas\n",
       "Name: state, dtype: object"
      ]
     },
     "execution_count": 18,
     "metadata": {},
     "output_type": "execute_result"
    }
   ],
   "source": [
    "# here am taking the state column from the place_with_parent_names column \n",
    "df1[\"state\"] = df1[\"place_with_parent_names\"].str.split(\"|\", expand=True)[2]\n",
    "df1[\"state\"].head()"
   ]
  },
  {
   "cell_type": "code",
   "execution_count": 20,
   "id": "1376ed8c-cd55-4775-99e7-761c436bd28b",
   "metadata": {},
   "outputs": [
    {
     "data": {
      "text/plain": [
       "count     11551.000000\n",
       "mean     181843.221930\n",
       "std       96603.990393\n",
       "min       74892.340000\n",
       "25%      109217.990000\n",
       "50%      152905.190000\n",
       "75%      224677.020000\n",
       "max      524246.390000\n",
       "Name: price_usd, dtype: float64"
      ]
     },
     "execution_count": 20,
     "metadata": {},
     "output_type": "execute_result"
    }
   ],
   "source": [
    "df1[\"price_usd\"].describe()"
   ]
  },
  {
   "cell_type": "code",
   "execution_count": null,
   "id": "4dea9428-f995-4b9e-a62b-d081c8fa9e23",
   "metadata": {},
   "outputs": [],
   "source": []
  },
  {
   "cell_type": "code",
   "execution_count": null,
   "id": "92d1eadf-9ec8-44aa-a3d2-cef027c7b0aa",
   "metadata": {},
   "outputs": [],
   "source": []
  },
  {
   "cell_type": "code",
   "execution_count": null,
   "id": "ba089b08-1eb8-49e6-86bb-455bb28a2722",
   "metadata": {},
   "outputs": [],
   "source": []
  },
  {
   "cell_type": "code",
   "execution_count": null,
   "id": "2da8a756-08e6-4f41-8a86-c7964fd0341a",
   "metadata": {},
   "outputs": [],
   "source": []
  },
  {
   "cell_type": "code",
   "execution_count": null,
   "id": "a61195b4-d371-49dc-a367-bf7ec2eb7aec",
   "metadata": {},
   "outputs": [],
   "source": []
  }
 ],
 "metadata": {
  "kernelspec": {
   "display_name": "Python 3 (ipykernel)",
   "language": "python",
   "name": "python3"
  },
  "language_info": {
   "codemirror_mode": {
    "name": "ipython",
    "version": 3
   },
   "file_extension": ".py",
   "mimetype": "text/x-python",
   "name": "python",
   "nbconvert_exporter": "python",
   "pygments_lexer": "ipython3",
   "version": "3.12.7"
  }
 },
 "nbformat": 4,
 "nbformat_minor": 5
}
